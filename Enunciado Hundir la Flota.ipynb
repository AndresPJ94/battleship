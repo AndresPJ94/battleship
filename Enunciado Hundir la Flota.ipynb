{
 "cells": [
  {
   "cell_type": "markdown",
   "metadata": {},
   "source": [
    "![imagen](./img/hundir-la-flota-juego-de-mesa.jpg)"
   ]
  },
  {
   "cell_type": "markdown",
   "metadata": {},
   "source": [
    "## Introducción\n",
    "En este ejercicio vas a crear tu propio juego de **Hundir la flota** en Python. Para el desarrollo del programa necesitarás conocimientos de la librería `numpy`, módulos, bucles, funciones y colecciones de Python. Se recomienda desarrollar el programa en un IDE como Pycharm, Visual Studio Code o Spyder. **Por lo que la entrega deberá constar de uno o varios scripts de Python (archivos .py), los que necesite el alumno**.\n",
    "\n",
    "## ¿Cómo funciona el juego?\n",
    "Vamos a realizar una versión que tiene algunas particularidades respecto al juego original, de manera que sea más sencillo el desarrollo. Veamos cómo funciona:\n",
    "\n",
    "1. Hay dos jugadores: tu y la maquina\n",
    "2. Un **tablero de 10 x 10** posiciones donde irán los barcos.\n",
    "3. Lo primero que se hace es colocar los barcos. Para este juego **los barcos se colocan de manera aleatoria. Ahora bien, puedes empezar colocando los barcos en unas posiciones fijas, que no cambien con cada partida, y después implementarlo aleatoriamente, ya que es más complejo. Los barcos son:**\n",
    "    * 4 barcos de 1 posición de eslora\n",
    "    * 3 barcos de 2 posiciones de eslora\n",
    "    * 2 barcos de 3 posiciones de eslora\n",
    "    * 1 barco de 4 posiciones de eslora\n",
    "\n",
    "4. Tanto tu, como la maquina tenéis un tablero con barcos, y se trata de ir \"disparando\" y hundiendo los del adversario hasta que un jugador se queda sin barcos, y por tanto, pierde.\n",
    "5. Funciona por turnos y empiezas tu.\n",
    "6. En cada turno disparas a una coordenada (X, Y) del tablero adversario. **Si aciertas, te vuelve a tocar**. En caso contrario, le toca a la maquina.\n",
    "7. En los turnos de la maquina, si acierta, también le vuelve a tocar. ¿Dónde dispara la maquina? A un punto aleatorio en tu tablero.\n",
    "8. Si se hunden todos los barcos de un jugador, el juego acaba y gana el otro.\n",
    "9. Por norma del juego no puede haber espacios entre barcos. Ignora esta norma\n",
    "\n",
    "En [esta página](http://es.battleship-game.org/) podrás probarlo online."
   ]
  },
  {
   "cell_type": "markdown",
   "metadata": {},
   "source": [
    "## Desarrollo\n",
    "Tendrás que desarrollar lo siguiente:\n",
    "1. Necesitarás un conjunto de **constantes**, donde tengas inventariados los barcos del juego, dimensiones y demás variables que no vayan a cambiar.\n",
    "\n",
    "2. Varias funciones que realicen lo siguiente:\n",
    "    * Una función que inicialice el tablero de cada jugador, donde se creen los tableros de 10x10 y se posicionen los barcos. Mucho cuidado si los posicionas aleatoriamente, de no superponer unos sobre otros y de no salirte del tablero.\n",
    "    * Piensa que tendrás que manejar 4 arrays de numpy para los tableros. Cada jugador tendrá un array de numpy con sus barcos y los impactos del otro jugador, y además otro array de numpy solo con los impactos, ya que ese es el tablero que utiliza el otro jugador para realizar sus disparos. Cuando vayas a jugar tendrás que ver tu tablero con tus barcos y el del otro jugador con los impactos que has hecho.\n",
    "    * Necesitas una función de **buscar coordenada**. Cuando hay un disparo de un jugador en ese tablero, tendrás que comprobar si ahi había un barco, o simplemente agua. Acuérdate de marcar en el tablero, tanto si hay un impacto, como si dio agua.\n",
    "\n",
    "\n",
    "3. Una vez ya tienes montado tu tablero, hay que montar el programa:\n",
    "    * El programa no es más que el **típico `while true: `, con una serie de inputs del usuario**. Se está ejecutando constantemente y le pide al usuario coordenadas para comprobar si impacta.\n",
    "    * Cuando arranque el programa, primero pon algún mensaje de bienvenida y las instrucciones del juego.\n",
    "    * A continuación **inicializa los tableros de ambos jugadores** con los barcos. Estas dos primeras acciones solo se ejecutan una vez!! Que es el comienzo del juego.\n",
    "    * Después de eso ya comienza el juego. Básicamente **se irá ejecutando iterativamente en el `while`, y le irá preguntando coordenadas al usuario.**\n",
    "    * Recoges coordenadas, compruebas en el tablero de la maquina si habia barco.\n",
    "        * Hay barco: marca en el tablero de la maquina el impacto y le vuelve a tocar al usuario\n",
    "        * No hay barco: le toca a la maquina. O lo que es lo mismo, escoge una coordenada aleatoria, y comprueba en el tablero del usuario si habia barco.\n",
    "    * **Así hasta que uno de los dos jugadores se quede sin barcos, y termina el juego.**\n",
    "    * Cuando empiece tu turno deberías imprimir por pantalla tu tablero, para ver cuántos impactos te ha hecho la máquina, así como el tablero con los impactos que has hecho tu en el adversario, de manera que te sirva de ayuda para el siguiente disparo.\n",
    "\n",
    "Hay infinidad de maneras para resolver este ejercicio, por lo que siéntete libre de implementarlo de la forma que te resulte más cómoda.\n",
    "\n"
   ]
  },
  {
   "cell_type": "markdown",
   "metadata": {},
   "source": [
    "## Entrega\n",
    "El alumno deberá entregar en Google Classroom un .zip con la siguiente información:\n",
    "1. Todo el código del trabajo\n",
    "2. Un .txt donde se encuentre el enlace a GitHub con el proyecto. El Github debe contener:\n",
    "    - Un README.md donde se describa el proyecto, autores, librerías y recursos utilizados. Podría haber hasta alguna imagen del juego.\n",
    "    - Una carpeta \"src\" con todos los scripts\n",
    "    - Si el trabajo se realiza en grupo, al menos un commit de cada participante.\n",
    "    - (Opcional) carpeta \"notebooks\" si se han usado notebooks\n",
    "\n",
    "**NOTA**: si el trabajo fuese por parejas, basta con realizar una sola entrega en Google Classroom"
   ]
  },
  {
   "cell_type": "markdown",
   "metadata": {},
   "source": [
    "## Recomendaciones\n",
    "1. Para implementar el bucle `while`, puedes usar **sentencias `continue`, `break`**.\n",
    "2. Se recomienda tener el código separado en **varios scripts**. Por ejemplo:\n",
    "    * main.py: donde corre todo el programa\n",
    "    * utils.py: aquí irán las clases\n",
    "    * constants.py\n",
    "3. Cuando se imprime el tablero por pantalla, básicamente será un `print()` del array de `numpy`. Escoge con sentido qué quieres que se imprima por pantalla, de manera que se vea bien dónde hay barco, donde ha habido impacto, agua... Tendrás los siguients casos:\n",
    "    * Agua donde no se ha impactado\n",
    "    * Agua donde se ha impactado\n",
    "    * Barco donde no se ha impactado\n",
    "    * Barco donde se ha impactado\n",
    "4. Utiliza el `debugging` del IDE que estés usando si ves que tu programa no se comporta como debería y no sabes muy bien por qué.\n",
    "5. Si el trabajo es por parejas, te recomiendo que uno empiece a implementar la clase tablero, con el array de numpy y los disparos, y el otro la lógica del programa (los turnos, bucle `while`...).\n",
    "6. Si acabas de empezar a programar, prueba primero a crear el array de numpy vacío y a colocar los barcos en unas posiciones concretas que nunca cambien, porque si lo haces aleatoriamente te será más complicado.\n"
   ]
  },
  {
   "cell_type": "markdown",
   "metadata": {},
   "source": [
    "## Bonus track\n",
    "Estos apartados NO son obligarotios.\n",
    "\n",
    "1. Si no te manejas mucho con el random de numpy y las dimensiones del tablero, comienza el juego con un tablero estático, es decir, que no se inicialice aleatoriamente, sino que las coordenadas de los barcos las tengas ya predefinidas. No es justo como funciona el juego, pero mejor avanzar a quedarnos atascados al principio.\n",
    "2. Por supuesto, puedes excepcionar el código todo lo que quieras, cubriendo todos los casos (por ejemplo que el usuario introduzca coordenadas fuera del tablero). Lo importante del ejercicio es que implementes el juego y que funcione. Si además de eso, consigues que tu software esté a prueba de balas, pues perfecto :)\n",
    "3. No está de más que cuando sea tu turno, haya otras opciones además que la de meter coordenadas, como por ejemplo, salir del juego, que se imprima por pantalla tu tablero, o el de la maquina con los impactos que has hecho.\n",
    "4. Puedes introducir un nivel de dificultad que escoja el usuario al principio. Por ejemplo, el nivel de dificultad puede consistir en que cuando dispare la maquina, que lo hace de manera aleatoria, en realidad lo haga 2 o 3 veces, también aleatoriamente, y que compruebe si en alguno de esos 2 o 3 disparos, ha impactado. De esta forma, en un único disparo, la maquina tiene más posibilidades de impactarte.\n",
    "5. Al no tener interfaz gráfica, los barcos se posicionan aleatoriamente, cuando lo suyo es que el jugador escoja las posiciones. Al principio del juego puedes ir pidiéndole coordenadas al usuario, de manera que complete él mismo su tablero.\n",
    "\n",
    "\n",
    "#### Clases y objetos\n",
    "Este juego está pensado para desarrollarse mediante clases y objetos, pero dada su complejidad, el alumno podrá elegir si desarrollarlo simplemente mediante un main y funciones, o modelizando objetos como el tablero. Si el alumno decidiese desarrollar el ejercicio mediante clases y objetos, debería seguir las siguientes consideraciones:\n",
    "1. Necesitarás un conjunto de **constantes**, donde tengas inventariados los barcos del juego, dimensiones y demás variables que no vayan a cambiar.\n",
    "\n",
    "2. **Una clase Tablero**. Para facilitar el desarrollo, la mejor opción es desarrollar una clase tablero donde implementes las siguientes funcionalidades:\n",
    "    * Cuando se inicialice deberás asignar\n",
    "        * Un id de jugador, para saber de quién es el tablero.\n",
    "        * Unas dimensiones de tablero, que en el fondo serán tus constantes 10 x 10.\n",
    "        * Unos barcos. Los que hayas definido como constantes. Aqui simplemente puedes pasar, por ejemplo, un diccionario donde especifiques el nombre de tus barcos, y la eslora de cada uno. Luego ya los colocarás en el tablero.\n",
    "        * **Un tablero sin barcos, que será un array de `numpy`** donde posicionarás los barcos. Este tablero está vacío, por lo que lo puedes rellenar de 0s, 1s, o el caracter que consideres.\n",
    "        * Adicionalmente la clase tablero necesitará otro array de `numpy`, ¿por qué? porque el tablero de la maquina tendrá internamente un array con sus barcos (lo que no vemos) y hará falta otro array (que sí veremos nosotros) con los disparos efectuados, para saber dónde tenemos que disparar.\n",
    "    * **Inicializar el tablero**, es decir, colocar los barcos. O bien lo haces en el constructor, o en un método de la clase. Si los colocas aleatoriamente, mucho cuidado aquí de poner los barcos dentro del tablero, y de no colocar unos barcos encima de otros :)\n",
    "    * Necesitarás un método de **buscar coordenada**. Cuando hay un disparo de un jugador en ese tablero, tendrás que comprobar si ahi había un barco, o simplemente agua. Acuérdate de marcar en el tablero, tanto si hay un impacto, como si dio agua.\n",
    "    * NO te ciñas a los métodos que te acabo de mencionar, crea todos los que necesites, introduce en el constructor lo que quieras y desarrolla las funciones que consideres oportunas para facilitarte el desarrollo.\n",
    "\n",
    "\n",
    "**Recurso extra**: [Transformar frases en caracteres para el print](http://patorjk.com/software/taag/#p=display&h=0&v=0&f=Soft&t=hello%20world)\n",
    "\n",
    "\n",
    "**Por supuesto, pudes preguntar cualquier duda al profesor si tienes problemas con el desarrollo o no entiendes algo del enunciado**"
   ]
  }
 ],
 "metadata": {
  "kernelspec": {
   "display_name": "Python 3.10.6 64-bit",
   "language": "python",
   "name": "python3"
  },
  "language_info": {
   "codemirror_mode": {
    "name": "ipython",
    "version": 3
   },
   "file_extension": ".py",
   "mimetype": "text/x-python",
   "name": "python",
   "nbconvert_exporter": "python",
   "pygments_lexer": "ipython3",
   "version": "3.10.6"
  },
  "vscode": {
   "interpreter": {
    "hash": "8fcda1502cee5b9cdd55051a46a94df07c3f678210896078c48e42f3b837b269"
   }
  }
 },
 "nbformat": 4,
 "nbformat_minor": 4
}
